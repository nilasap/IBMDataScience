{
 "cells": [
  {
   "cell_type": "markdown",
   "id": "a75a8252-1f60-410c-b593-02745f396083",
   "metadata": {},
   "source": [
    "# Data Science Tools and Ecosystem"
   ]
  },
  {
   "cell_type": "markdown",
   "id": "459c8afe-6b4e-489a-9469-36f1ae090a6b",
   "metadata": {},
   "source": [
    "### In this notebook, Data Science Tools and Ecosystem are summarized."
   ]
  },
  {
   "cell_type": "markdown",
   "id": "0682200e-6bef-4e79-825e-519f18e82da0",
   "metadata": {},
   "source": [
    "<B>Objectives</B>\n",
    "- Popular languages that Data Scientists use.\n",
    "- Commonly used libraries used by Data Scientists.\n",
    "- Three development environment open source tools used in data science.\n",
    "- Evaluating arithmetic expressions in Python"
   ]
  },
  {
   "cell_type": "markdown",
   "id": "acac7416-a2ea-4c85-ae16-1fc6e70806ce",
   "metadata": {},
   "source": [
    "<B>Some of the popular languages that Data Scientists use are:</B>\n",
    "1. Python\n",
    "2. R\n",
    "3. Julia\n",
    "4. SAS\n",
    "5. MATLAB"
   ]
  },
  {
   "cell_type": "markdown",
   "id": "194de3d8-1d54-4558-af65-a37eb0392759",
   "metadata": {},
   "source": [
    "<B>Some of the commonly used libraries used by Data Scientists include:</B>\n",
    "1. Python : NumPy, Matplotlib, Pandas, Seaborn, SciPy, Scikit-learn, TensorFlow, PyTorch, Plotly, etc.\n",
    "2. R      : ggplot2, dplyr, caret, shiny, data.table, xgboost, etc.\n",
    "3. Julia  : DataFrames.jl, Plots.jl, StatsBase.jl, MLJ.jl, Flux.jl.\n",
    "    \n",
    "    \n"
   ]
  },
  {
   "cell_type": "markdown",
   "id": "f70e30bb-41d0-4a9a-95e2-1b9afff88012",
   "metadata": {},
   "source": [
    "<B>Three development environment open source tools used in data science:</B><be>\n",
    "\n",
    "|<B>Data Science Tools</B>|\n",
    "|-------------------------|\n",
    "|Jupyter Notebook|\n",
    "|RStudio|\n",
    "|Apache Zeppelin|\n"
   ]
  },
  {
   "cell_type": "markdown",
   "id": "99d0c86b-19cf-4205-9d90-6f2debecb002",
   "metadata": {},
   "source": [
    "### Below are a few examples of evaluating arithmetic expressions in Python"
   ]
  },
  {
   "cell_type": "markdown",
   "id": "ea06d06e-042f-4424-bce6-f368e9331e17",
   "metadata": {},
   "source": [
    "This a simple arithmetic expression to mutiply then add integers"
   ]
  },
  {
   "cell_type": "code",
   "execution_count": 3,
   "id": "1e942e67-046b-44fc-a9ce-8e2f72c72b61",
   "metadata": {},
   "outputs": [
    {
     "data": {
      "text/plain": [
       "17"
      ]
     },
     "execution_count": 3,
     "metadata": {},
     "output_type": "execute_result"
    }
   ],
   "source": [
    "(3*4)+5"
   ]
  },
  {
   "cell_type": "markdown",
   "id": "15dbc62c-c185-446d-833b-501a9e8aa272",
   "metadata": {},
   "source": [
    "This will convert 200 minutes to hours by diving by 60"
   ]
  },
  {
   "cell_type": "code",
   "execution_count": 2,
   "id": "90c04e11-2d4f-41c1-9075-dbd419e5c57a",
   "metadata": {},
   "outputs": [
    {
     "name": "stdout",
     "output_type": "stream",
     "text": [
      "Hours :  3  and Minutes :  20\n"
     ]
    }
   ],
   "source": [
    "hours = 200//60\n",
    "minutes = 200%60\n",
    "print\n",
    "print(\"Hours : \",hours,\" and Minutes : \",minutes)"
   ]
  },
  {
   "cell_type": "markdown",
   "id": "a61a43fa-3790-4bef-a49c-fc8ad7aa20d5",
   "metadata": {},
   "source": [
    "## Author \n",
    "Nilakantha Sahoo"
   ]
  },
  {
   "cell_type": "code",
   "execution_count": null,
   "id": "f031475d-b083-47d8-87c9-0d2b031d82f9",
   "metadata": {},
   "outputs": [],
   "source": []
  }
 ],
 "metadata": {
  "kernelspec": {
   "display_name": "Python 3 (ipykernel)",
   "language": "python",
   "name": "python3"
  },
  "language_info": {
   "codemirror_mode": {
    "name": "ipython",
    "version": 3
   },
   "file_extension": ".py",
   "mimetype": "text/x-python",
   "name": "python",
   "nbconvert_exporter": "python",
   "pygments_lexer": "ipython3",
   "version": "3.9.5"
  }
 },
 "nbformat": 4,
 "nbformat_minor": 5
}
